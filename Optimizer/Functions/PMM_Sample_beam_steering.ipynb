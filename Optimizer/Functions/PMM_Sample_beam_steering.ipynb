{
 "cells": [
  {
   "cell_type": "code",
   "execution_count": 1,
   "id": "83d30032",
   "metadata": {},
   "outputs": [],
   "source": [
    "import numpy as np\n",
    "from PMM.PMMInverse import PMMI, mode_overlap, field_mag_int, c\n",
    "from ceviche import fdfd_ez\n",
    "import os\n",
    "import matplotlib as mpl         # These two lines just make plots render more clearly\n",
    "mpl.rcParams['figure.dpi']= 500  # in the notebook"
   ]
  },
  {
   "cell_type": "code",
   "execution_count": 2,
   "id": "bc34ccec",
   "metadata": {},
   "outputs": [],
   "source": [
    "def Setup_Domain():\n",
    "    a = 0.020\n",
    "    res = 16\n",
    "    nx = 18\n",
    "    ny = 22\n",
    "    dpml = 2\n",
    "    b_o = 0.0075/a\n",
    "    b_i = 0.0065/a\n",
    "\n",
    "    ## Set up domain geometry #####################################################\n",
    "    PPC = PMMI(a, res, nx, ny, dpml) #Initialize PMMI object\n",
    "    PPC.Add_INFOMW_Horn(np.array([6.5, 11]), np.array([1,0]), 6.5, pol ='TM')\n",
    "    PPC.Add_INFOMW_Horn(4*np.array([0.5, 3**0.5/2])+np.array([10.5,11]), np.array([-0.5,-3**0.5/2]), 8, pol ='TM')\n",
    "    PPC.Add_INFOMW_Horn(4*np.array([0.5, -3**0.5/2])+np.array([10.5,11]), np.array([-0.5,3**0.5/2]), 8, pol ='TM')\n",
    "    PPC.Design_Region((6.5, 6.5), (8, 9)) #Specify Region where elements are being optimized\n",
    "\n",
    "    uniform = True\n",
    "    PPC.Rod_Array_Hexagon_train(np.array([10.5,11]), 5, b_i, 1,\\\n",
    "                          a_basis = np.array([[0,1],[np.sqrt(3)/2,1./2]]),\\\n",
    "                          bulbs = True, r_bulb = (b_i, b_o), eps_bulb = 3.8,\n",
    "                          uniform = uniform) #Rod ppc array\n",
    "\n",
    "\n",
    "    ## Set up Sources and Sim #####################################################\n",
    "    w = PPC.gamma(4.98e9) #Source frequency\n",
    "    wpmax = PPC.gamma(14e9)\n",
    "    gamma = 0#PPC.gamma(1e9)\n",
    "\n",
    "    ew = 0.048/a/2-0.004/a\n",
    "    hd = 0.089/a\n",
    "    x = np.array([1,0])\n",
    "    y = np.array([0,1])\n",
    "    horn_dir_1 = np.array([0.5,3**0.5/2])\n",
    "    horn_dir_2 = np.array([0.5,-3**0.5/2])\n",
    "    open_dir_1 = np.array([3**0.5/2,-0.5])\n",
    "    open_dir_2 = np.array([3**0.5/2,0.5])\n",
    "    cen = np.array([10.5,11])\n",
    "\n",
    "    PPC.Add_Source(np.array([6.5-hd,11-ew]), np.array([6.5-hd,11+ew]), w, 'src', 'ez')\n",
    "    PPC.Add_Probe((4+hd)*horn_dir_1 + ew*open_dir_1 + cen,\\\n",
    "              (4+hd)*horn_dir_1 - ew*open_dir_1 + cen, w, 'prb1', 'ez')\n",
    "    PPC.Add_Probe((4+hd)*horn_dir_2 + ew*open_dir_2 + cen,\\\n",
    "              (4+hd)*horn_dir_2 - ew*open_dir_2 + cen, w, 'prb2', 'ez')\n",
    "    PPC.Add_Probe(-4.8*(3**0.5/2)*horn_dir_1 + 2.05*open_dir_1 + cen,\\\n",
    "              -4.8*(3**0.5/2)*horn_dir_1 - 2.05*open_dir_1 + cen, w, 'loss_ul', 'ez')\n",
    "    PPC.Add_Probe(-4.8*(3**0.5/2)*horn_dir_2 + 2.05*open_dir_2 + cen,\\\n",
    "              -4.8*(3**0.5/2)*horn_dir_2 - 2.05*open_dir_2 + cen, w, 'loss_ll', 'ez')\n",
    "    PPC.Add_Probe(4.8*(3**0.5/2)*x - 2.05*y + cen,\\\n",
    "              4.8*(3**0.5/2)*x + 2.05*y + cen, w, 'loss_R', 'ez')\n",
    "    \n",
    "    return PPC\n",
    "\n",
    "def Run_Evaluate(PPC, rho, E0 = None, E0l = []):\n",
    "    epsr_init = PPC.Rho_Parameterization_wp(rho,\\\n",
    "                    PPC.sources['src'][1]*PPC.a/2/np.pi/c, wp_max = PPC.gamma(14e9),\\\n",
    "                    gamma = 0, uniform = True)\n",
    "    sim = fdfd_ez(PPC.sources['src'][1], PPC.dl, epsr_init, [PPC.Npml, PPC.Npml])\n",
    "    _, _, E = sim.solve(PPC.sources['src'][0])\n",
    "\n",
    "    if E0 == None:\n",
    "        E0 = mode_overlap(E, PPC.probes['prb1'][0])\n",
    "    if E0l == []:\n",
    "        for prb_key in ['prb2', 'loss_ul', 'loss_ll', 'loss_R']:\n",
    "            E0l.append(field_mag_int(E, PPC.probes[prb_key][3]))\n",
    "\n",
    "    obj = mode_overlap(E, PPC.probes['prb1'][0])/E0\n",
    "    i=0 \n",
    "    for prb_key in ['prb2', 'loss_ul', 'loss_ll', 'loss_R']:\n",
    "        obj -= 2*field_mag_int(E, PPC.probes[prb_key][3])/E0l[i]\n",
    "        i+=1\n",
    "    return obj, E0, E0l\n",
    "\n",
    "def Plot_PPC(PPC, rho, fname):\n",
    "    output = os.getcwd()+'/../outputs'\n",
    "    PPC.Viz_Sim_abs_opt(rho, ['src'], output+fname+'.pdf',\\\n",
    "                    plasma = True, wp_max = PPC.gamma(14e9),\\\n",
    "                    uniform = True, gamma = 0)\n",
    "    \n",
    "def Check_Domain(PPC, rho, fname):\n",
    "    output = os.getcwd()+'/../outputs'\n",
    "    PPC.Viz_Domain_opt(rho, output+fname+'_domain.pdf',\\\n",
    "                    w = PPC.gamma(5e9), src_names = ['src'],\\\n",
    "                    prb_names = ['prb1', 'prb2', 'loss_ul', 'loss_ll', 'loss_R'],\\\n",
    "                    plasma = True, wp_max = PPC.gamma(14e9), uniform = True,\\\n",
    "                    gamma = 0)"
   ]
  },
  {
   "cell_type": "code",
   "execution_count": null,
   "id": "6fb4a2f1",
   "metadata": {},
   "outputs": [],
   "source": [
    "PPC = Setup_Domain()\n",
    "\n",
    "rod_eps = 0.999*np.ones(61) #Rod perm values, start with plasma ~off\n",
    "rho_init = PPC.Eps_to_Rho(epsr = rod_eps, plasma = True, w_src = PPC.gamma(4e9),\\\n",
    "                    wp_max = PPC.gamma(14e9)) #Initial Parameters\n",
    "\n",
    "obj, E0, E0l = Run_Evaluate(PPC, rho_init)\n",
    "print(obj)\n",
    "#Plot_PPC(PPC, rho_init, 'Hex5Wvg_plasmaoff')"
   ]
  },
  {
   "cell_type": "code",
   "execution_count": null,
   "id": "09c05d5e",
   "metadata": {},
   "outputs": [],
   "source": [
    "rod_eps[0:11:2] = -100\n",
    "on = [12,14,16,18,20,22,24,26,28,30,32,34,36,38,40,50,52]\n",
    "rod_eps[on] = -100\n",
    "rho_plasma = PPC.Eps_to_Rho(epsr = rod_eps, plasma = True, w_src = PPC.gamma(4e9),\\\n",
    "                    wp_max = PPC.gamma(14e9))\n",
    "\n",
    "#obj, E0, E0l = Run_Evaluate(PPC, rho_plasma, E0, E0l)\n",
    "#print(obj)\n",
    "PPC.Clear_fields()\n",
    "Plot_PPC(PPC, rho_plasma, 'Hex5Wvg_plasmaon')\n",
    "Check_Domain(PPC, rho_plasma, 'Hex5Wvg_plasmaon')"
   ]
  },
  {
   "cell_type": "code",
   "execution_count": null,
   "id": "e32cd127",
   "metadata": {},
   "outputs": [],
   "source": []
  },
  {
   "cell_type": "code",
   "execution_count": null,
   "id": "fa9f2b19",
   "metadata": {},
   "outputs": [],
   "source": []
  },
  {
   "cell_type": "code",
   "execution_count": null,
   "id": "72a4137e",
   "metadata": {},
   "outputs": [],
   "source": []
  },
  {
   "cell_type": "code",
   "execution_count": null,
   "id": "fdd0b033",
   "metadata": {},
   "outputs": [],
   "source": []
  },
  {
   "cell_type": "code",
   "execution_count": null,
   "id": "2b9ebbd1",
   "metadata": {},
   "outputs": [],
   "source": []
  },
  {
   "cell_type": "code",
   "execution_count": null,
   "id": "d3b86223",
   "metadata": {},
   "outputs": [],
   "source": []
  },
  {
   "cell_type": "code",
   "execution_count": null,
   "id": "8fae2300",
   "metadata": {},
   "outputs": [],
   "source": []
  },
  {
   "cell_type": "code",
   "execution_count": null,
   "id": "20cb28d6",
   "metadata": {},
   "outputs": [],
   "source": []
  },
  {
   "cell_type": "code",
   "execution_count": null,
   "id": "0708651e",
   "metadata": {},
   "outputs": [],
   "source": []
  },
  {
   "cell_type": "code",
   "execution_count": null,
   "id": "fd47ca0c",
   "metadata": {},
   "outputs": [],
   "source": []
  },
  {
   "cell_type": "code",
   "execution_count": null,
   "id": "eb3d34e6",
   "metadata": {},
   "outputs": [],
   "source": []
  },
  {
   "cell_type": "code",
   "execution_count": null,
   "id": "cc9da704",
   "metadata": {},
   "outputs": [],
   "source": []
  },
  {
   "cell_type": "code",
   "execution_count": null,
   "id": "04af1138",
   "metadata": {},
   "outputs": [],
   "source": []
  },
  {
   "cell_type": "code",
   "execution_count": null,
   "id": "86988495",
   "metadata": {},
   "outputs": [],
   "source": []
  }
 ],
 "metadata": {
  "kernelspec": {
   "display_name": "ceviche",
   "language": "python",
   "name": "python3"
  },
  "language_info": {
   "codemirror_mode": {
    "name": "ipython",
    "version": 3
   },
   "file_extension": ".py",
   "mimetype": "text/x-python",
   "name": "python",
   "nbconvert_exporter": "python",
   "pygments_lexer": "ipython3",
   "version": "3.10.0"
  }
 },
 "nbformat": 4,
 "nbformat_minor": 5
}
